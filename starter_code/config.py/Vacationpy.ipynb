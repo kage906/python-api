{
 "cells": [
  {
   "cell_type": "markdown",
   "metadata": {},
   "source": [
    "# VacationPy\n",
    "---\n",
    "\n",
    "## Starter Code to Import Libraries and Load the Weather and Coordinates Data"
   ]
  },
  {
   "cell_type": "code",
   "execution_count": null,
   "metadata": {},
   "outputs": [],
   "source": [
    "!pip install hvplot\n"
   ]
  },
  {
   "cell_type": "code",
   "execution_count": null,
   "metadata": {},
   "outputs": [],
   "source": [
    "!pip install opencv-python"
   ]
  },
  {
   "cell_type": "code",
   "execution_count": 12,
   "metadata": {},
   "outputs": [],
   "source": [
    "import os"
   ]
  },
  {
   "cell_type": "code",
   "execution_count": null,
   "metadata": {},
   "outputs": [],
   "source": [
    "os.getcwd()"
   ]
  },
  {
   "cell_type": "code",
   "execution_count": 13,
   "metadata": {},
   "outputs": [],
   "source": [
    "# Dependencies and Setup\n",
    "import hvplot.pandas\n",
    "import pandas as pd\n",
    "import requests\n",
    "\n",
    "# Import API key\n",
    "from api_keys import geoapify_key"
   ]
  },
  {
   "cell_type": "code",
   "execution_count": 14,
   "metadata": {},
   "outputs": [
    {
     "data": {
      "text/html": [
       "<div>\n",
       "<style scoped>\n",
       "    .dataframe tbody tr th:only-of-type {\n",
       "        vertical-align: middle;\n",
       "    }\n",
       "\n",
       "    .dataframe tbody tr th {\n",
       "        vertical-align: top;\n",
       "    }\n",
       "\n",
       "    .dataframe thead th {\n",
       "        text-align: right;\n",
       "    }\n",
       "</style>\n",
       "<table border=\"1\" class=\"dataframe\">\n",
       "  <thead>\n",
       "    <tr style=\"text-align: right;\">\n",
       "      <th></th>\n",
       "      <th>City_ID</th>\n",
       "      <th>City</th>\n",
       "      <th>Country</th>\n",
       "      <th>Lat</th>\n",
       "      <th>Lng</th>\n",
       "      <th>Max Temp</th>\n",
       "      <th>Humidity</th>\n",
       "      <th>Cloudiness</th>\n",
       "      <th>Wind Speed</th>\n",
       "      <th>Date</th>\n",
       "    </tr>\n",
       "  </thead>\n",
       "  <tbody>\n",
       "    <tr>\n",
       "      <th>0</th>\n",
       "      <td>0</td>\n",
       "      <td>New York</td>\n",
       "      <td>US</td>\n",
       "      <td>40.7143</td>\n",
       "      <td>-74.0060</td>\n",
       "      <td>69.51</td>\n",
       "      <td>28</td>\n",
       "      <td>0</td>\n",
       "      <td>9.22</td>\n",
       "      <td>1681148800</td>\n",
       "    </tr>\n",
       "    <tr>\n",
       "      <th>1</th>\n",
       "      <td>1</td>\n",
       "      <td>Los Angeles</td>\n",
       "      <td>US</td>\n",
       "      <td>34.0522</td>\n",
       "      <td>-118.2437</td>\n",
       "      <td>87.21</td>\n",
       "      <td>69</td>\n",
       "      <td>40</td>\n",
       "      <td>5.75</td>\n",
       "      <td>1681148838</td>\n",
       "    </tr>\n",
       "    <tr>\n",
       "      <th>2</th>\n",
       "      <td>2</td>\n",
       "      <td>Paris</td>\n",
       "      <td>FR</td>\n",
       "      <td>48.8534</td>\n",
       "      <td>2.3488</td>\n",
       "      <td>58.08</td>\n",
       "      <td>92</td>\n",
       "      <td>100</td>\n",
       "      <td>13.80</td>\n",
       "      <td>1681149136</td>\n",
       "    </tr>\n",
       "    <tr>\n",
       "      <th>3</th>\n",
       "      <td>3</td>\n",
       "      <td>Tokyo</td>\n",
       "      <td>JP</td>\n",
       "      <td>35.6895</td>\n",
       "      <td>139.6917</td>\n",
       "      <td>61.56</td>\n",
       "      <td>63</td>\n",
       "      <td>0</td>\n",
       "      <td>16.11</td>\n",
       "      <td>1681148886</td>\n",
       "    </tr>\n",
       "    <tr>\n",
       "      <th>4</th>\n",
       "      <td>4</td>\n",
       "      <td>Sydney</td>\n",
       "      <td>AU</td>\n",
       "      <td>-33.8679</td>\n",
       "      <td>151.2073</td>\n",
       "      <td>54.63</td>\n",
       "      <td>68</td>\n",
       "      <td>0</td>\n",
       "      <td>9.22</td>\n",
       "      <td>1681148930</td>\n",
       "    </tr>\n",
       "  </tbody>\n",
       "</table>\n",
       "</div>"
      ],
      "text/plain": [
       "   City_ID         City Country      Lat       Lng  Max Temp  Humidity  \\\n",
       "0        0     New York      US  40.7143  -74.0060     69.51        28   \n",
       "1        1  Los Angeles      US  34.0522 -118.2437     87.21        69   \n",
       "2        2        Paris      FR  48.8534    2.3488     58.08        92   \n",
       "3        3        Tokyo      JP  35.6895  139.6917     61.56        63   \n",
       "4        4       Sydney      AU -33.8679  151.2073     54.63        68   \n",
       "\n",
       "   Cloudiness  Wind Speed        Date  \n",
       "0           0        9.22  1681148800  \n",
       "1          40        5.75  1681148838  \n",
       "2         100       13.80  1681149136  \n",
       "3           0       16.11  1681148886  \n",
       "4           0        9.22  1681148930  "
      ]
     },
     "execution_count": 14,
     "metadata": {},
     "output_type": "execute_result"
    }
   ],
   "source": [
    "import pandas as pd\n",
    "\n",
    "# Load the CSV file into a Pandas DataFrame\n",
    "city_data_df = pd.read_csv(\"C:\\\\Users\\\\maclo\\\\onedrive\\\\desktop\\\\Repositories\\\\python-api\\\\HW 6\\\\Starter_Code\\\\starter_code\\\\output_data\\\\cities.csv\")\n",
    "\n",
    "# Display sample data\n",
    "city_data_df.head()\n"
   ]
  },
  {
   "cell_type": "code",
   "execution_count": 1,
   "metadata": {},
   "outputs": [
    {
     "name": "stdout",
     "output_type": "stream",
     "text": [
      "Requirement already satisfied: hvplot in c:\\users\\maclo\\anaconda--3\\envs\\pythondata\\lib\\site-packages (0.8.3)\n",
      "Requirement already satisfied: pandas in c:\\users\\maclo\\anaconda--3\\envs\\pythondata\\lib\\site-packages (1.0.5)\n",
      "Requirement already satisfied: bokeh>=1.0.0 in c:\\users\\maclo\\anaconda--3\\envs\\pythondata\\lib\\site-packages (from hvplot) (2.4.3)\n",
      "Requirement already satisfied: holoviews>=1.11.0 in c:\\users\\maclo\\anaconda--3\\envs\\pythondata\\lib\\site-packages (from hvplot) (1.15.4)\n",
      "Requirement already satisfied: param>=1.9.0 in c:\\users\\maclo\\anaconda--3\\envs\\pythondata\\lib\\site-packages (from hvplot) (1.13.0)\n",
      "Requirement already satisfied: numpy>=1.15 in c:\\users\\maclo\\anaconda--3\\envs\\pythondata\\lib\\site-packages (from hvplot) (1.18.5)\n",
      "Requirement already satisfied: colorcet>=2 in c:\\users\\maclo\\anaconda--3\\envs\\pythondata\\lib\\site-packages (from hvplot) (3.0.1)\n",
      "Requirement already satisfied: panel>=0.11.0 in c:\\users\\maclo\\anaconda--3\\envs\\pythondata\\lib\\site-packages (from hvplot) (0.14.4)\n",
      "Requirement already satisfied: packaging in c:\\users\\maclo\\anaconda--3\\envs\\pythondata\\lib\\site-packages (from hvplot) (21.3)\n",
      "Requirement already satisfied: python-dateutil>=2.6.1 in c:\\users\\maclo\\anaconda--3\\envs\\pythondata\\lib\\site-packages (from pandas) (2.8.1)\n",
      "Requirement already satisfied: pytz>=2017.2 in c:\\users\\maclo\\anaconda--3\\envs\\pythondata\\lib\\site-packages (from pandas) (2020.1)\n",
      "Requirement already satisfied: pillow>=7.1.0 in c:\\users\\maclo\\anaconda--3\\envs\\pythondata\\lib\\site-packages (from bokeh>=1.0.0->hvplot) (9.5.0)\n",
      "Requirement already satisfied: PyYAML>=3.10 in c:\\users\\maclo\\anaconda--3\\envs\\pythondata\\lib\\site-packages (from bokeh>=1.0.0->hvplot) (6.0)\n",
      "Requirement already satisfied: tornado>=5.1 in c:\\users\\maclo\\anaconda--3\\envs\\pythondata\\lib\\site-packages (from bokeh>=1.0.0->hvplot) (6.0.4)\n",
      "Requirement already satisfied: typing-extensions>=3.10.0 in c:\\users\\maclo\\anaconda--3\\envs\\pythondata\\lib\\site-packages (from bokeh>=1.0.0->hvplot) (4.1.1)\n",
      "Requirement already satisfied: Jinja2>=2.9 in c:\\users\\maclo\\anaconda--3\\envs\\pythondata\\lib\\site-packages (from bokeh>=1.0.0->hvplot) (3.0.3)\n",
      "Requirement already satisfied: pyviz-comms>=0.7.4 in c:\\users\\maclo\\anaconda--3\\envs\\pythondata\\lib\\site-packages (from holoviews>=1.11.0->hvplot) (2.2.1)\n",
      "Requirement already satisfied: pyct>=0.4.4 in c:\\users\\maclo\\anaconda--3\\envs\\pythondata\\lib\\site-packages (from colorcet>=2->hvplot) (0.5.0)\n",
      "Requirement already satisfied: tqdm>=4.48.0 in c:\\users\\maclo\\anaconda--3\\envs\\pythondata\\lib\\site-packages (from panel>=0.11.0->hvplot) (4.65.0)\n",
      "Requirement already satisfied: bleach in c:\\users\\maclo\\anaconda--3\\envs\\pythondata\\lib\\site-packages (from panel>=0.11.0->hvplot) (4.1.0)\n",
      "Requirement already satisfied: markdown in c:\\users\\maclo\\anaconda--3\\envs\\pythondata\\lib\\site-packages (from panel>=0.11.0->hvplot) (3.4.3)\n",
      "Requirement already satisfied: requests in c:\\users\\maclo\\anaconda--3\\envs\\pythondata\\lib\\site-packages (from panel>=0.11.0->hvplot) (2.27.1)\n",
      "Requirement already satisfied: setuptools>=42 in c:\\users\\maclo\\anaconda--3\\envs\\pythondata\\lib\\site-packages (from panel>=0.11.0->hvplot) (47.3.1.post20200622)\n",
      "Requirement already satisfied: pyparsing!=3.0.5,>=2.0.2 in c:\\users\\maclo\\anaconda--3\\envs\\pythondata\\lib\\site-packages (from packaging->hvplot) (2.4.7)\n",
      "Requirement already satisfied: six>=1.5 in c:\\users\\maclo\\anaconda--3\\envs\\pythondata\\lib\\site-packages (from python-dateutil>=2.6.1->pandas) (1.15.0)\n",
      "Requirement already satisfied: MarkupSafe>=2.0 in c:\\users\\maclo\\anaconda--3\\envs\\pythondata\\lib\\site-packages (from Jinja2>=2.9->bokeh>=1.0.0->hvplot) (2.0.1)\n",
      "Requirement already satisfied: colorama; platform_system == \"Windows\" in c:\\users\\maclo\\anaconda--3\\envs\\pythondata\\lib\\site-packages (from tqdm>=4.48.0->panel>=0.11.0->hvplot) (0.4.4)\n",
      "Requirement already satisfied: webencodings in c:\\users\\maclo\\anaconda--3\\envs\\pythondata\\lib\\site-packages (from bleach->panel>=0.11.0->hvplot) (0.5.1)\n",
      "Requirement already satisfied: importlib-metadata>=4.4; python_version < \"3.10\" in c:\\users\\maclo\\anaconda--3\\envs\\pythondata\\lib\\site-packages (from markdown->panel>=0.11.0->hvplot) (4.11.3)\n",
      "Requirement already satisfied: certifi>=2017.4.17 in c:\\users\\maclo\\anaconda--3\\envs\\pythondata\\lib\\site-packages (from requests->panel>=0.11.0->hvplot) (2022.12.7)\n",
      "Requirement already satisfied: urllib3<1.27,>=1.21.1 in c:\\users\\maclo\\anaconda--3\\envs\\pythondata\\lib\\site-packages (from requests->panel>=0.11.0->hvplot) (1.26.15)\n",
      "Requirement already satisfied: charset-normalizer~=2.0.0; python_version >= \"3\" in c:\\users\\maclo\\anaconda--3\\envs\\pythondata\\lib\\site-packages (from requests->panel>=0.11.0->hvplot) (2.0.12)\n",
      "Requirement already satisfied: idna<4,>=2.5; python_version >= \"3\" in c:\\users\\maclo\\anaconda--3\\envs\\pythondata\\lib\\site-packages (from requests->panel>=0.11.0->hvplot) (3.3)\n",
      "Requirement already satisfied: zipp>=0.5 in c:\\users\\maclo\\anaconda--3\\envs\\pythondata\\lib\\site-packages (from importlib-metadata>=4.4; python_version < \"3.10\"->markdown->panel>=0.11.0->hvplot) (3.7.0)\n"
     ]
    }
   ],
   "source": [
    "!pip install hvplot pandas\n"
   ]
  },
  {
   "cell_type": "code",
   "execution_count": 4,
   "metadata": {},
   "outputs": [
    {
     "name": "stdout",
     "output_type": "stream",
     "text": [
      "Collecting pip\n",
      "  Downloading pip-23.1.2-py3-none-any.whl (2.1 MB)\n",
      "Collecting setuptools\n",
      "  Using cached setuptools-67.8.0-py3-none-any.whl (1.1 MB)\n",
      "Installing collected packages: pip, setuptools\n",
      "  Attempting uninstall: pip\n",
      "    Found existing installation: pip 20.1.1\n",
      "    Uninstalling pip-20.1.1:\n",
      "      Successfully uninstalled pip-20.1.1\n",
      "  Attempting uninstall: setuptools\n",
      "    Found existing installation: setuptools 47.3.1.post20200622\n",
      "    Uninstalling setuptools-47.3.1.post20200622:\n",
      "      Successfully uninstalled setuptools-47.3.1.post20200622\n",
      "Successfully installed pip-23.1.2 setuptools-67.8.0\n"
     ]
    }
   ],
   "source": [
    "!pip install --upgrade pip setuptools\n"
   ]
  },
  {
   "cell_type": "code",
   "execution_count": 8,
   "metadata": {},
   "outputs": [
    {
     "name": "stdout",
     "output_type": "stream",
     "text": [
      "Requirement already satisfied: wheel in c:\\users\\maclo\\anaconda--3\\envs\\pythondata\\lib\\site-packages (0.34.2)\n",
      "Requirement already satisfied: numpy in c:\\users\\maclo\\anaconda--3\\envs\\pythondata\\lib\\site-packages (1.18.5)\n"
     ]
    }
   ],
   "source": [
    "!pip install wheel\n",
    "!pip install numpy\n"
   ]
  },
  {
   "cell_type": "code",
   "execution_count": 9,
   "metadata": {},
   "outputs": [
    {
     "name": "stdout",
     "output_type": "stream",
     "text": [
      "Collecting shapely\n",
      "  Downloading shapely-2.0.1-cp37-cp37m-win_amd64.whl (1.4 MB)\n",
      "     ---------------------------------------- 1.4/1.4 MB 4.9 MB/s eta 0:00:00\n",
      "Requirement already satisfied: numpy>=1.14 in c:\\users\\maclo\\anaconda--3\\envs\\pythondata\\lib\\site-packages (from shapely) (1.18.5)\n",
      "Installing collected packages: shapely\n",
      "Successfully installed shapely-2.0.1\n"
     ]
    }
   ],
   "source": [
    "!pip install shapely\n"
   ]
  },
  {
   "cell_type": "code",
   "execution_count": null,
   "metadata": {},
   "outputs": [],
   "source": [
    "!conda install -c conda-forge shapely\n"
   ]
  },
  {
   "cell_type": "code",
   "execution_count": null,
   "metadata": {},
   "outputs": [],
   "source": [
    "import hvplot.pandas\n",
    "import pandas as pd\n",
    "from IPython.display import display\n",
    "\n",
    "# Configure the map plot\n",
    "plot = city_data_df.hvplot.points(\n",
    "    x=\"Lng\",\n",
    "    y=\"Lat\",\n",
    "    size=\"Humidity\",\n",
    "    title=\"City Humidity\",\n",
    "    xlabel=\"Longitude\",\n",
    "    ylabel=\"Latitude\",\n",
    "    frame_width=500,\n",
    "    frame_height=400,\n",
    "    geo=True,\n",
    "    tiles=\"CartoLight\",\n",
    "    colorbar=True,\n",
    "    clim=(0, 100),\n",
    ")\n",
    "\n",
    "# Display the map\n",
    "display(plot)\n"
   ]
  },
  {
   "cell_type": "markdown",
   "metadata": {},
   "source": [
    "---\n",
    "\n",
    "### Step 1: Create a map that displays a point for every city in the `city_data_df` DataFrame. The size of the point should be the humidity in each city."
   ]
  },
  {
   "cell_type": "code",
   "execution_count": null,
   "metadata": {},
   "outputs": [],
   "source": [
    "%%capture --no-display\n",
    "\n",
    "# Configure the map plot\n",
    "plot = city_data_df.hvplot.points(\n",
    "    x=\"Lng\",\n",
    "    y=\"Lat\",\n",
    "    size=\"Humidity\",\n",
    "    title=\"City Humidity\",\n",
    "    xlabel=\"Longitude\",\n",
    "    ylabel=\"Latitude\",\n",
    "    frame_width=500,\n",
    "    frame_height=400,\n",
    "    geo=True,\n",
    "    tiles=\"CartoLight\",\n",
    "    colorbar=True,\n",
    "    clim=(0, 100),\n",
    ")\n",
    "\n",
    "# Display the map\n",
    "hvplot.show(plot)"
   ]
  },
  {
   "cell_type": "markdown",
   "metadata": {},
   "source": [
    "### Step 2: Narrow down the `city_data_df` DataFrame to find your ideal weather condition"
   ]
  },
  {
   "cell_type": "code",
   "execution_count": null,
   "metadata": {},
   "outputs": [],
   "source": [
    "# Narrow down cities that fit criteria and drop any results with null values\n",
    "ideal_cities_df = city_data_df.query('`Max Temp` >= 280.00 and `Max Temp` <= 300.00 and `Wind Speed` < 1.54 and `Cloudiness` == 0')\n",
    "\n",
    "# Drop any rows with null values\n",
    "ideal_cities_df = ideal_cities_df.dropna()\n",
    "\n",
    "# Display sample data\n",
    "ideal_cities_df.head()"
   ]
  },
  {
   "cell_type": "markdown",
   "metadata": {},
   "source": [
    "### Step 3: Create a new DataFrame called `hotel_df`."
   ]
  },
  {
   "cell_type": "code",
   "execution_count": null,
   "metadata": {},
   "outputs": [],
   "source": [
    "# Use the Pandas copy function to create DataFrame called hotel_df to store the city, country, coordinates, and humidity\n",
    "hotel_df = ideal_cities_df[['City', 'Country', 'Lat', 'Lng', 'Humidity']].copy()\n",
    "\n",
    "# Add an empty column, \"Hotel Name,\" to the DataFrame so you can store the hotel found using the Geoapify API\n",
    "hotel_df[\"Hotel Name\"] = \"\"\n",
    "\n",
    "# Display sample data\n",
    "hotel_df.head()"
   ]
  },
  {
   "cell_type": "markdown",
   "metadata": {},
   "source": [
    "### Step 4: For each city, use the Geoapify API to find the first hotel located within 10,000 metres of your coordinates."
   ]
  },
  {
   "cell_type": "code",
   "execution_count": null,
   "metadata": {},
   "outputs": [],
   "source": [
    "# Set parameters to search for a hotel\n",
    "categories = \"accommodation.hotel\"\n",
    "limit = 20\n",
    "radius = 10000\n",
    "params = {\n",
    "    \"categories\" : categories,\n",
    "    \"limit\":limit,\n",
    "    \"radius\" :radius,\n",
    "    \"sort\" : \"distance\",\n",
    "    \"apiKey\" :geoapify_key\n",
    "}\n",
    "# Set the parameters for the type of search\n",
    "# Print a message to follow up the hotel search\n",
    "print(\"Starting hotel search\")\n",
    "# Iterate through the hotel_df DataFrame\n",
    "for index, row in hotel_df.iterrows():\n",
    "    # get latitude, longitude from the DataFrame\n",
    "    latitude = row['Lat']\n",
    "    longitude = row[\"Lng\"]\n",
    "    # Add filter and bias parameters with the current city's latitude and longitude to the params dictionary\n",
    "    params['filters'] = f\"circle:{longitude},{latitude},{radius}\"\n",
    "    params['bias'] = f\"proximity:{longitude},{latitude}\"\n",
    "    # Set base URL\n",
    "    base_url = \"https://api.geoapify.com/v2/places\"\n",
    "    # Make and API request using the params dictionaty\n",
    "    response = requests.get(base_url, params=params).json()\n",
    "    # Convert the API response to JSON format\n",
    "    name_address = response\n",
    "    # Grab the first hotel from the results and store the name in the hotel_df DataFrame\n",
    "    try:\n",
    "        hotel_df.loc[index, \"Hotel Name\"] = name_address[\"features\"][0][\"properties\"][\"name\"]\n",
    "    except (KeyError, IndexError):\n",
    "        # If no hotel is found, set the hotel name as \"No hotel found\".\n",
    "        hotel_df.loc[index, \"Hotel Name\"] = \"No hotel found\"\n",
    "    # Log the search results\n",
    "    print(f\"{hotel_df.loc[index, 'City']} - nearest hotel: {hotel_df.loc[index, 'Hotel Name']}\")\n",
    "# Display sample data\n",
    "hotel_df"
   ]
  },
  {
   "cell_type": "markdown",
   "metadata": {},
   "source": [
    "### Step 5: Add the hotel name and the country as additional information in the hover message for each city in the map."
   ]
  },
  {
   "cell_type": "code",
   "execution_count": null,
   "metadata": {},
   "outputs": [],
   "source": [
    "%%capture --no-display\n",
    "\n",
    "hover_cols = ['City', 'Country', 'Hotel Name']\n",
    "hover_tooltips = [(col, '@'+col) for col in hover_cols]\n",
    "\n",
    "plot = city_data_df.hvplot.points(\n",
    "    x=\"Lng\",\n",
    "    y=\"Lat\",\n",
    "    size=\"Humidity\",\n",
    "    title=\"City Humidity\",\n",
    "    xlabel=\"Longitude\",\n",
    "    ylabel=\"Latitude\",\n",
    "    frame_width=500,\n",
    "    frame_height=400,\n",
    "    geo=True,\n",
    "    tiles=\"CartoLight\",\n",
    "    colorbar=True,\n",
    "    clim=(0, 100),\n",
    "    hover_cols=hover_cols,\n",
    "    hover_tooltips=hover_tooltips,\n",
    ")\n",
    "\n",
    "# Display the map\n",
    "hvplot.show(plot)"
   ]
  },
  {
   "cell_type": "code",
   "execution_count": null,
   "metadata": {},
   "outputs": [],
   "source": []
  },
  {
   "cell_type": "code",
   "execution_count": null,
   "metadata": {},
   "outputs": [],
   "source": []
  }
 ],
 "metadata": {
  "kernelspec": {
   "display_name": "Python 3 (ipykernel)",
   "language": "python",
   "name": "python3"
  },
  "language_info": {
   "codemirror_mode": {
    "name": "ipython",
    "version": 3
   },
   "file_extension": ".py",
   "mimetype": "text/x-python",
   "name": "python",
   "nbconvert_exporter": "python",
   "pygments_lexer": "ipython3",
   "version": "3.7.7"
  },
  "latex_envs": {
   "LaTeX_envs_menu_present": true,
   "autoclose": false,
   "autocomplete": true,
   "bibliofile": "biblio.bib",
   "cite_by": "apalike",
   "current_citInitial": 1,
   "eqLabelWithNumbers": true,
   "eqNumInitial": 1,
   "hotkeys": {
    "equation": "Ctrl-E",
    "itemize": "Ctrl-I"
   },
   "labels_anchors": false,
   "latex_user_defs": false,
   "report_style_numbering": false,
   "user_envs_cfg": false
  }
 },
 "nbformat": 4,
 "nbformat_minor": 4
}
