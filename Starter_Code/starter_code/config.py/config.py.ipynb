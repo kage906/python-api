{
 "cells": [
  {
   "cell_type": "code",
   "execution_count": null,
   "id": "2ecd4311",
   "metadata": {},
   "outputs": [],
   "source": [
    "# OpenWeatherMap API Key\n",
    "weather_api_key = \"123ddeffaa8ee6c6efa6fa149b8e6c6b\"\n",
    "\n",
    "\n",
    "\n",
    "# Geoapify API Key\n",
    "geoapify_key = \"13005ac64037403e95dd1ca7eec42e23\"\n"
   ]
  }
 ],
 "metadata": {
  "kernelspec": {
   "display_name": "Python 3 (ipykernel)",
   "language": "python",
   "name": "python3"
  },
  "language_info": {
   "codemirror_mode": {
    "name": "ipython",
    "version": 3
   },
   "file_extension": ".py",
   "mimetype": "text/x-python",
   "name": "python",
   "nbconvert_exporter": "python",
   "pygments_lexer": "ipython3",
   "version": "3.7.7"
  }
 },
 "nbformat": 4,
 "nbformat_minor": 5
}
